{
 "cells": [
  {
   "cell_type": "markdown",
   "id": "a56da70d",
   "metadata": {},
   "source": [
    "# ติดตั้งก่อนใช้ EasyOCR"
   ]
  },
  {
   "cell_type": "markdown",
   "id": "3e872f61",
   "metadata": {},
   "source": [
    "- pip install easyocr opencv-python pandas deep-translator"
   ]
  },
  {
   "cell_type": "markdown",
   "id": "01899398",
   "metadata": {},
   "source": [
    "# สแกนเอกสาร ไทย-อังกฤษ"
   ]
  },
  {
   "cell_type": "code",
   "execution_count": null,
   "id": "d73966ac",
   "metadata": {},
   "outputs": [],
   "source": [
    "import easyocr, cv2\n",
    "\n",
    "reader = easyocr.Reader(['th', 'en'], gpu=False)  # ภาษาไทย + อังกฤษ\n",
    "image_file = 'receipt.jpg'\n",
    "results = reader.readtext(image_file)\n",
    "\n",
    "# แสดงผลลัพธ์\n",
    "for _, text, conf in results:\n",
    "    print(f\"{text} (Confidence: {conf:.2f})\")\n",
    "# วาดกรอบรอบข้อความที่ตรวจจับได้\n",
    "image = cv2.imread(image_file)\n",
    "for (bbox, text, conf) in results:\n",
    "    (top_left, top_right, bottom_right, bottom_left) = bbox\n",
    "    top_left = tuple(map(int, top_left))\n",
    "    bottom_right = tuple(map(int, bottom_right))\n",
    "    cv2.rectangle(image, top_left, bottom_right, (0, 255, 0), 2)\n",
    "cv2.imwrite(\"ocr_output.jpg\", image)"
   ]
  },
  {
   "cell_type": "markdown",
   "id": "a915bb26",
   "metadata": {},
   "source": [
    "# ตัวอย่างการใช้งาน OCR"
   ]
  },
  {
   "cell_type": "code",
   "execution_count": null,
   "id": "6d201872",
   "metadata": {},
   "outputs": [],
   "source": [
    "# แปลเอกสารไทย-อังกฤษ\n",
    "from deep_translator import GoogleTranslator\n",
    "translator = GoogleTranslator(source='th', target='en')\n",
    "for _, text, conf in results:\n",
    "    translated = translator.translate(text)\n",
    "    print(f\"ก่อนแปล: {text}，หลังแปล: {translated}\")"
   ]
  },
  {
   "cell_type": "code",
   "execution_count": null,
   "id": "6321c45b",
   "metadata": {},
   "outputs": [],
   "source": [
    "import pandas as pd\n",
    "import re\n",
    "\n",
    "# จัดเรียงข้อความจากบนลงล่าง ตามตำแหน่งแนวตั้ง\n",
    "results_sorted = sorted(results, key=lambda x: x[0][0][1])\n",
    "# เก็บเฉพาะข้อความที่ความมั่นใจมากกว่า 0.4\n",
    "lines = [text.strip() for _, text, conf in results_sorted if conf > 0.4]\n",
    "# สร้างรายการสินค้า โดยจัดกลุ่มทุก 5 บรรทัด\n",
    "items = []\n",
    "for i in range(0, len(lines), 5):\n",
    "    group = lines[i:i+5]\n",
    "    print(f\"กลุ่มที่ {i//5 + 1}: {group}\")\n",
    "    if len(group) < 5:\n",
    "        continue  # ถ้ากลุ่มไม่ครบ 5 บรรทัด ให้ข้ามไป\n",
    "    try:\n",
    "        item = {\n",
    "            'ชื่อสินค้า': group[0],\n",
    "            'จำนวน': int(group[1]),\n",
    "            'ราคาต่อหน่วย': float(group[2].replace(',', '')),\n",
    "            'ส่วนลด': group[3],\n",
    "            'รวม (บาท)': float(group[4].replace(',', ''))\n",
    "        }\n",
    "        items.append(item)\n",
    "    except ValueError:\n",
    "        continue  # ข้ามกลุ่มที่มีข้อมูลผิดพลาด เช่น แปลงเป็นตัวเลขไม่ได้\n",
    "\n",
    "# แสดงผลลัพธ์รายการสินค้าใน Console\n",
    "print(\"\\n✅ รายการสินค้า:\")\n",
    "for item in items:\n",
    "    print(f\"{item['ชื่อสินค้า']:<30} x{item['จำนวน']:>3} @ {item['ราคาต่อหน่วย']:>8.2f} → {item['รวม (บาท)']:>10,.2f}\")\n",
    "\n",
    "# บันทึกเป็นไฟล์ CSV\n",
    "df = pd.DataFrame(items)\n",
    "df.to_csv('receipt_output.csv', index=False)\n",
    "print(\"\\n📁 บันทึกเป็น receipt_grouped_output.csv เรียบร้อยแล้ว\")"
   ]
  }
 ],
 "metadata": {
  "kernelspec": {
   "display_name": "OCR",
   "language": "python",
   "name": "python3"
  },
  "language_info": {
   "codemirror_mode": {
    "name": "ipython",
    "version": 3
   },
   "file_extension": ".py",
   "mimetype": "text/x-python",
   "name": "python",
   "nbconvert_exporter": "python",
   "pygments_lexer": "ipython3",
   "version": "3.13.5"
  }
 },
 "nbformat": 4,
 "nbformat_minor": 5
}
