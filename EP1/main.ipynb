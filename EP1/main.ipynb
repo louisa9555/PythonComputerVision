{
 "cells": [
  {
   "cell_type": "markdown",
   "id": "6fee9d87",
   "metadata": {},
   "source": [
    "# Python Computer Vision EP1: สอนตรวจจับวัตถุ(object detection)ด้วย YOLOV12\n",
    " Youtube: LouisMakerLab"
   ]
  },
  {
   "cell_type": "code",
   "execution_count": null,
   "id": "06750895",
   "metadata": {},
   "outputs": [],
   "source": [
    "from ultralytics import YOLO\n",
    "from matplotlib import pyplot as plt\n",
    "import cv2\n",
    "%matplotlib inline\n",
    "\n",
    "\n",
    "# โหลดโมเดล YOLO\n",
    "model = YOLO(\"yolo12n.pt\")\n",
    "\n",
    "# เส้นทางรูปภาพ\n",
    "img_path = [\"./datasets/coco8/images/8.jpeg\", ] # เปลี่ยนเป็นเส้นทางของรูปภาพที่ต้องการทดสอบ\n",
    "img_path = \"./datasets/coco8/images/\"  # เปลี่ยนเป็นเส้นทางของ folder ที่ต้องการทดสอบ\n",
    "\n",
    "# Run inference with the YOLO12n model on the 'bus.jpg' image\n",
    "results = model(source=img_path, save=False, device='cpu', conf=0.3) # ถ้ามี webcam ให้ใส่ source=0, ถ้ามีการ์ดจอ device=0\n",
    "for r in results:\n",
    "    annotated = r.plot() \n",
    "    cv2.imshow(\"Detection Result\", annotated)\n",
    "    cv2.waitKey(0)\n",
    "    cv2.destroyAllWindows()\n"
   ]
  },
  {
   "cell_type": "code",
   "execution_count": null,
   "id": "6c8c8be1",
   "metadata": {},
   "outputs": [],
   "source": [
    "for r in results:\n",
    "    # print(r)\n",
    "    for box in r.boxes:\n",
    "        # print(box)\n",
    "        rounded_bbox = [round(x) for x in box.xyxy[0].tolist()]\n",
    "        print(f\"Class: {r.names[int(box.cls[0])]}, Confidence: {box.conf[0]:.2f}, BBox: {rounded_bbox}\")"
   ]
  },
  {
   "cell_type": "code",
   "execution_count": null,
   "id": "3199a2f2",
   "metadata": {},
   "outputs": [],
   "source": [
    "# ค่าความมั่นใจที่ต้องการทดสอบ\n",
    "conf_levels = [0.25, 0.5, 0.75]\n",
    "# สร้าง list เพื่อเก็บภาพผลลัพธ์แต่ละระดับ conf\n",
    "annotated_images = []\n",
    "\n",
    "# วนลูปรันโมเดลด้วยความมั่นใจต่าง ๆ\n",
    "for conf in conf_levels:\n",
    "    results = model(source=\"./datasets/coco8/images/8.jpeg\", conf=conf, device='cpu')\n",
    "    annotated = results[0].plot()  # ได้ภาพแบบ array ที่มี bounding box\n",
    "    annotated_images.append((conf, annotated))\n",
    "\n",
    "# แสดงผลลัพธ์ทั้งหมดใน subplot\n",
    "plt.figure(figsize=(30, 10))\n",
    "for i, (conf, img) in enumerate(annotated_images):\n",
    "    plt.subplot(1, len(conf_levels), i + 1)\n",
    "    plt.imshow(cv2.cvtColor(img, cv2.COLOR_BGR2RGB))  # แปลงสี BGR เป็น RGB\n",
    "    plt.title(f\"Conf = {conf}\", fontsize=20)\n",
    "    plt.axis(\"off\")\n",
    "\n",
    "plt.tight_layout()\n",
    "plt.show()\n"
   ]
  }
 ],
 "metadata": {
  "kernelspec": {
   "display_name": "Python 3",
   "language": "python",
   "name": "python3"
  },
  "language_info": {
   "codemirror_mode": {
    "name": "ipython",
    "version": 3
   },
   "file_extension": ".py",
   "mimetype": "text/x-python",
   "name": "python",
   "nbconvert_exporter": "python",
   "pygments_lexer": "ipython3",
   "version": "3.11.9"
  }
 },
 "nbformat": 4,
 "nbformat_minor": 5
}
